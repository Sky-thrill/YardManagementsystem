{
  "nbformat": 4,
  "nbformat_minor": 0,
  "metadata": {
    "colab": {
      "provenance": []
    },
    "kernelspec": {
      "name": "python3",
      "display_name": "Python 3"
    },
    "language_info": {
      "name": "python"
    }
  },
  "cells": [
    {
      "cell_type": "code",
      "execution_count": null,
      "metadata": {
        "id": "90B66o_hQFFw"
      },
      "outputs": [],
      "source": [
        "import datetime\n",
        "import time\n",
        "import pandas as pd\n",
        "import numpy as np\n",
        "from matplotlib  import pyplot as plt\n",
        "from sklearn.model_selection import train_test_split\n",
        "from sklearn.compose import ColumnTransformer\n",
        "from sklearn.preprocessing import OneHotEncoder\n",
        "from sklearn.linear_model import LinearRegression\n",
        "from sklearn.preprocessing import PolynomialFeatures\n",
        "from numpy import set_printoptions\n",
        "from sklearn.preprocessing import StandardScaler\n",
        "from sklearn.svm import SVR\n",
        "from sklearn.tree import DecisionTreeRegressor\n",
        "from sklearn.ensemble import RandomForestRegressor"
      ]
    },
    {
      "cell_type": "code",
      "source": [
        "df=pd.read_csv(\"Testx.csv\")"
      ],
      "metadata": {
        "id": "laYru2j_xYFU"
      },
      "execution_count": null,
      "outputs": []
    },
    {
      "cell_type": "code",
      "source": [
        "df.isnull().mean()*100"
      ],
      "metadata": {
        "id": "fn2ceM7n39b4"
      },
      "execution_count": null,
      "outputs": []
    },
    {
      "cell_type": "code",
      "source": [
        "df1=df.copy()"
      ],
      "metadata": {
        "id": "zSIbGSTC4IEm"
      },
      "execution_count": null,
      "outputs": []
    },
    {
      "cell_type": "code",
      "source": [
        "df1.isna()"
      ],
      "metadata": {
        "id": "NRdRw9uRFhyU"
      },
      "execution_count": null,
      "outputs": []
    },
    {
      "cell_type": "code",
      "source": [
        "value=df1['IN_TIME']\n",
        "x=value.size\n",
        "\n",
        "Year=[]\n",
        "Month=[]\n",
        "Day=[]\n",
        "Hour=[]\n",
        "Minute=[]\n",
        "Weekday=[]\n",
        "for i in range(x):\n",
        "  a=value[i]\n",
        "  t = time.strptime(a, '%d-%m-%Y %H:%M')\n",
        "  Year.append(time.strftime('%Y', t))\n",
        "  Month.append(time.strftime('%m', t))\n",
        "  Day.append(time.strftime('%d', t))\n",
        "  Weekday.append(time.strftime('%w', t))\n",
        "  Hour.append(time.strftime('%H', t))\n",
        "  Minute.append(time.strftime('%M', t))"
      ],
      "metadata": {
        "id": "I4uSxmY0FkcC"
      },
      "execution_count": null,
      "outputs": []
    },
    {
      "cell_type": "code",
      "source": [
        "value=df1['OUT_TIME']\n",
        "y=value.size\n",
        "\n",
        "Year1=[]\n",
        "Month1=[]\n",
        "Day1=[]\n",
        "Hour1=[]\n",
        "Minute1=[]\n",
        "Weekday1=[]\n",
        "for j in range(y):\n",
        "  b=value[j]\n",
        "  t1 = time.strptime(b, '%d-%m-%Y %H:%M')\n",
        "  Year1.append(time.strftime('%Y', t1))\n",
        "  Month1.append(time.strftime('%m', t1))\n",
        "  Day1.append(time.strftime('%d', t1))\n",
        "  Weekday1.append(time.strftime('%w', t1))\n",
        "  Hour1.append(time.strftime('%H', t1))\n",
        "  Minute1.append(time.strftime('%M', t1))"
      ],
      "metadata": {
        "id": "CEdccY3GUf4-"
      },
      "execution_count": null,
      "outputs": []
    },
    {
      "cell_type": "code",
      "source": [
        "a=pd.DataFrame(Year)\n",
        "b=pd.DataFrame(Month)\n",
        "c=pd.DataFrame(Day)\n",
        "d=pd.DataFrame(Hour)\n",
        "e=pd.DataFrame(Minute)\n",
        "f=pd.DataFrame(Weekday)\n",
        "\n",
        "X1 = a.iloc[:,-1].values\n",
        "X2 = b.iloc[:,-1].values\n",
        "X3 = c.iloc[:,-1].values\n",
        "X4 = d.iloc[:,-1].values\n",
        "X5 = e.iloc[:,-1].values\n",
        "X6 = f.iloc[:,-1].values"
      ],
      "metadata": {
        "id": "FxACVg1dSH8r"
      },
      "execution_count": null,
      "outputs": []
    },
    {
      "cell_type": "code",
      "source": [
        "a1=pd.DataFrame(Year1)\n",
        "b1=pd.DataFrame(Month1)\n",
        "c1=pd.DataFrame(Day1)\n",
        "d1=pd.DataFrame(Hour1)\n",
        "e1=pd.DataFrame(Minute1)\n",
        "f1=pd.DataFrame(Weekday1)\n",
        "\n",
        "Y1 = a1.iloc[:,-1].values\n",
        "Y2 = b1.iloc[:,-1].values\n",
        "Y3 = c1.iloc[:,-1].values\n",
        "Y4 = d1.iloc[:,-1].values\n",
        "Y5 = e1.iloc[:,-1].values\n",
        "Y6 = f1.iloc[:,-1].values"
      ],
      "metadata": {
        "id": "0GUHKmtBUxdc"
      },
      "execution_count": null,
      "outputs": []
    },
    {
      "cell_type": "code",
      "source": [
        "X1=X1.reshape(len(X1),1)\n",
        "X2=X2.reshape(len(X2),1)\n",
        "X3=X3.reshape(len(X3),1)\n",
        "X4=X4.reshape(len(X4),1)\n",
        "X5=X5.reshape(len(X5),1)\n",
        "X6=X6.reshape(len(X6),1)"
      ],
      "metadata": {
        "id": "WpnzIYprS2Bz"
      },
      "execution_count": null,
      "outputs": []
    },
    {
      "cell_type": "code",
      "source": [
        "Y1=Y1.reshape(len(Y1),1)\n",
        "Y2=Y2.reshape(len(Y2),1)\n",
        "Y3=Y3.reshape(len(Y3),1)\n",
        "Y4=Y4.reshape(len(Y4),1)\n",
        "Y5=Y5.reshape(len(Y5),1)\n",
        "Y6=Y6.reshape(len(Y6),1)"
      ],
      "metadata": {
        "id": "2vD4T_IKU8hS"
      },
      "execution_count": null,
      "outputs": []
    },
    {
      "cell_type": "code",
      "source": [
        "sc_X1 = StandardScaler()\n",
        "sc_X2 = StandardScaler()\n",
        "sc_X3 = StandardScaler()\n",
        "sc_X4 = StandardScaler()\n",
        "sc_X5 = StandardScaler()\n",
        "sc_X6 = StandardScaler()\n",
        "X1 = sc_X1.fit_transform(X1)\n",
        "X2 = sc_X2.fit_transform(X2)\n",
        "X3 = sc_X3.fit_transform(X3)\n",
        "X4 = sc_X4.fit_transform(X4)\n",
        "X5 = sc_X5.fit_transform(X5)\n",
        "X6 = sc_X6.fit_transform(X6)"
      ],
      "metadata": {
        "id": "MOKqZvZfRsAT"
      },
      "execution_count": null,
      "outputs": []
    },
    {
      "cell_type": "code",
      "source": [
        "sc_Y1 = StandardScaler()\n",
        "sc_Y2 = StandardScaler()\n",
        "sc_Y3 = StandardScaler()\n",
        "sc_Y4 = StandardScaler()\n",
        "sc_Y5 = StandardScaler()\n",
        "sc_Y6 = StandardScaler()\n",
        "Y1 = sc_Y1.fit_transform(Y1)\n",
        "Y2 = sc_Y2.fit_transform(Y2)\n",
        "Y3 = sc_Y3.fit_transform(Y3)\n",
        "Y4 = sc_Y4.fit_transform(Y4)\n",
        "Y5 = sc_Y5.fit_transform(Y5)\n",
        "Y6 = sc_Y6.fit_transform(Y6)"
      ],
      "metadata": {
        "id": "0p1cQU8TVD8L"
      },
      "execution_count": null,
      "outputs": []
    },
    {
      "cell_type": "code",
      "source": [
        "X1_train,X1_test,Y1_train,Y1_test =train_test_split(X1,Y1,test_size=0.2,random_state=0)\n",
        "X2_train,X2_test,Y2_train,Y2_test =train_test_split(X2,Y2,test_size=0.2,random_state=0)\n",
        "X3_train,X3_test,Y3_train,Y3_test =train_test_split(X3,Y3,test_size=0.2,random_state=0)\n",
        "X4_train,X4_test,Y4_train,Y4_test =train_test_split(X4,Y4,test_size=0.2,random_state=0)\n",
        "X5_train,X5_test,Y5_train,Y5_test =train_test_split(X5,Y5,test_size=0.2,random_state=0)\n",
        "X6_train,X6_test,Y6_train,Y6_test =train_test_split(X6,Y6,test_size=0.2,random_state=0)"
      ],
      "metadata": {
        "id": "KjDFsxtLVoIP"
      },
      "execution_count": null,
      "outputs": []
    },
    {
      "cell_type": "code",
      "source": [
        "reg1 = SVR()\n",
        "reg2 = SVR()\n",
        "reg3 = SVR()\n",
        "reg4 = SVR()\n",
        "reg5 = SVR()\n",
        "reg6 = SVR()\n",
        "\n",
        "reg1.fit(X1_train,Y1_train)\n",
        "reg2.fit(X2_train,Y2_train)\n",
        "reg3.fit(X3_train,Y3_train)\n",
        "reg4.fit(X4_train,Y4_train)\n",
        "reg5.fit(X5_train,Y5_train)\n",
        "reg6.fit(X6_train,Y6_train)"
      ],
      "metadata": {
        "id": "DcfhA1SnT6ed"
      },
      "execution_count": null,
      "outputs": []
    },
    {
      "cell_type": "code",
      "source": [
        "Y1_pred  = reg1.predict(X1_test)\n",
        "from sklearn.metrics import accuracy_score\n",
        "print(Y1_pred)"
      ],
      "metadata": {
        "id": "bK9oNMKTW2K5"
      },
      "execution_count": null,
      "outputs": []
    },
    {
      "cell_type": "code",
      "source": [
        "df1=df1.drop(columns=['CON_NUM' , 'REF_ID'])"
      ],
      "metadata": {
        "id": "iQoeIiUD7OHn"
      },
      "execution_count": null,
      "outputs": []
    },
    {
      "cell_type": "code",
      "source": [
        "df1.isna().mean()*100"
      ],
      "metadata": {
        "id": "9ok0rPYY8GLG"
      },
      "execution_count": null,
      "outputs": []
    },
    {
      "cell_type": "code",
      "source": [
        "df1=df1.dropna(axis='index',how='any')"
      ],
      "metadata": {
        "id": "pl_vsjLG8T2s"
      },
      "execution_count": null,
      "outputs": []
    },
    {
      "cell_type": "code",
      "source": [
        "df1.isna().mean()*100"
      ],
      "metadata": {
        "id": "8bKnEv7U-daC"
      },
      "execution_count": null,
      "outputs": []
    },
    {
      "cell_type": "code",
      "source": [
        "df1 = pd.get_dummies(df1, columns = ['STATUS'] )"
      ],
      "metadata": {
        "id": "fL0MXQTVd41k"
      },
      "execution_count": null,
      "outputs": []
    },
    {
      "cell_type": "code",
      "source": [
        "df1.info()"
      ],
      "metadata": {
        "id": "e8ETaOIpAj5b"
      },
      "execution_count": null,
      "outputs": []
    },
    {
      "cell_type": "code",
      "source": [
        "# sc_X = StandardScaler()\n",
        "# sc_Y = StandardScaler()\n",
        "# X = sc_X.fit_transform(X)\n",
        "# Y = sc_Y.fit_transform(Y)"
      ],
      "metadata": {
        "id": "AyXNkGwHb7To"
      },
      "execution_count": null,
      "outputs": []
    },
    {
      "cell_type": "code",
      "source": [
        "# reg = SVR()\n",
        "# reg.fit(X,Y)"
      ],
      "metadata": {
        "id": "vVTOYjhcgOAx"
      },
      "execution_count": null,
      "outputs": []
    },
    {
      "cell_type": "code",
      "source": [
        "sc_Y.inverse_transform(reg.predict(sc_X.transform([[6.5]])).reshape(-1,1))"
      ],
      "metadata": {
        "id": "RLmub5OVgP_v"
      },
      "execution_count": null,
      "outputs": []
    },
    {
      "cell_type": "code",
      "source": [
        "plt.scatter(sc_X.inverse_transform(X),sc_Y.inverse_transform(Y),color='red')\n",
        "plt.plot(sc_X.inverse_transform(X),sc_Y.inverse_transform(reg.predict(X).reshape(-1,1)))\n",
        "plt.title(\"Yard management system\")\n",
        "plt.xlabel(\"\")\n",
        "plt.ylabel(\"\")\n",
        "plt.show()"
      ],
      "metadata": {
        "id": "Ig3IUqhYgbsn"
      },
      "execution_count": null,
      "outputs": []
    }
  ]
}